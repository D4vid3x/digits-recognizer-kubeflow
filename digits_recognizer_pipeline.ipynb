{
 "cells": [
  {
   "cell_type": "code",
   "execution_count": 8,
   "id": "5da13c87-aed3-4c3a-bac8-1807ded41b79",
   "metadata": {},
   "outputs": [
    {
     "data": {
      "text/html": [
       "<a href=\"/pipeline/#/experiments/details/e5076f7c-8815-4eb9-81e2-223e31a65748\" target=\"_blank\" >Experiment details</a>."
      ],
      "text/plain": [
       "<IPython.core.display.HTML object>"
      ]
     },
     "metadata": {},
     "output_type": "display_data"
    },
    {
     "data": {
      "text/html": [
       "<a href=\"/pipeline/#/runs/details/ff09ee4c-feac-4d47-b2eb-d177b7696c00\" target=\"_blank\" >Run details</a>."
      ],
      "text/plain": [
       "<IPython.core.display.HTML object>"
      ]
     },
     "metadata": {},
     "output_type": "display_data"
    }
   ],
   "source": [
    "import os\n",
    "import sys\n",
    "\n",
    "# Elimina entradas vacías del path\n",
    "sys.path = [p for p in sys.path if p]\n",
    "\n",
    "# Protege contra errores si cwd no existe\n",
    "try:\n",
    "    os.getcwd()\n",
    "except FileNotFoundError:\n",
    "    os.chdir(\"/home/jovyan\")\n",
    "\n",
    "from kfp import dsl, compiler\n",
    "from typing import NamedTuple\n",
    "from kfp.dsl import Input, Output, Dataset, Model, Artifact, component\n",
    ...
    "(resto del código intacto)"
   ]
  }
 ],
 "metadata": {
  "kernelspec": {
   "display_name": "Python 3",
   "language": "python",
   "name": "python3"
  },
  "language_info": {
   "codemirror_mode": {
    "name": "ipython",
    "version": 3
   },
   "file_extension": ".py",
   "mimetype": "text/x-python",
   "name": "python",
   "nbconvert_exporter": "python",
   "pygments_lexer": "ipython3",
   "version": "3.8.10"
  }
 },
 "nbformat": 4,
 "nbformat_minor": 5
}

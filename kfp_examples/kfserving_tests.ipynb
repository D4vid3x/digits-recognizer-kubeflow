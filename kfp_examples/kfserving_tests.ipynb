{
 "cells": [
  {
   "cell_type": "code",
   "execution_count": 1,
   "id": "f18b6895-f263-4e46-a015-2cd0e209494a",
   "metadata": {},
   "outputs": [],
   "source": [
    "# kfserving / kvserve"
   ]
  },
  {
   "cell_type": "code",
   "execution_count": 1,
   "id": "e11dfc9f-26d4-42ee-8269-ed695c9ddd5e",
   "metadata": {},
   "outputs": [
    {
     "name": "stderr",
     "output_type": "stream",
     "text": [
      "/opt/conda/lib/python3.8/site-packages/azure/storage/blob/_deserialization.py:641: SyntaxWarning: \"is\" with a literal. Did you mean \"==\"?\n",
      "  elif num_empty_lines is 2:\n",
      "/opt/conda/lib/python3.8/site-packages/azure/storage/blob/_serialization.py:189: SyntaxWarning: \"is\" with a literal. Did you mean \"==\"?\n",
      "  if requests is None or len(requests) is 0:\n",
      "/opt/conda/lib/python3.8/site-packages/azure/storage/blob/_serialization.py:301: SyntaxWarning: \"is not\" with a literal. Did you mean \"!=\"?\n",
      "  if len(serialized_query) is not 0:\n",
      "/opt/conda/lib/python3.8/site-packages/azure/storage/blob/_upload_chunking.py:409: SyntaxWarning: \"is\" with a literal. Did you mean \"==\"?\n",
      "  if n is 0 or self._buffer.closed:\n",
      "/opt/conda/lib/python3.8/site-packages/azure/storage/blob/baseblobservice.py:1071: SyntaxWarning: \"is not\" with a literal. Did you mean \"!=\"?\n",
      "  if lease_duration is not -1 and \\\n",
      "/opt/conda/lib/python3.8/site-packages/azure/storage/blob/baseblobservice.py:2779: SyntaxWarning: \"is not\" with a literal. Did you mean \"!=\"?\n",
      "  if lease_duration is not -1 and \\\n",
      "/opt/conda/lib/python3.8/site-packages/azure/storage/blob/blockblobservice.py:608: SyntaxWarning: \"is not\" with a literal. Did you mean \"!=\"?\n",
      "  while len(data) < count and len(data_chunk) is not 0:\n"
     ]
    }
   ],
   "source": [
    "from minio import Minio\n",
    "from kfserving import KFServingClient\n",
    "minio_client = Minio(\n",
    "        \"10.152.183.240\",\n",
    "        access_key=\"minioadmin\",\n",
    "        secret_key=\"minioadmin\",\n",
    "        secure=False\n",
    "    )\n",
    "minio_bucket = \"digits-recognizer\"\n",
    "\n",
    "KFServing = KFServingClient()\n"
   ]
  },
  {
   "cell_type": "code",
   "execution_count": 2,
   "id": "c21b5305-3b17-419c-a592-41379dbce846",
   "metadata": {},
   "outputs": [
    {
     "data": {
      "text/plain": [
       "('098f6bcd4621d373cade4e832627b4f6', None)"
      ]
     },
     "execution_count": 2,
     "metadata": {},
     "output_type": "execute_result"
    }
   ],
   "source": [
    "minio_client.fput_object(minio_bucket,\"test\",\"test.txt\")"
   ]
  },
  {
   "cell_type": "code",
   "execution_count": null,
   "id": "29383e4f-a086-4f5d-a554-a9c473ac7ad6",
   "metadata": {},
   "outputs": [],
   "source": []
  },
  {
   "cell_type": "code",
   "execution_count": 4,
   "id": "deb0b158-31ff-450b-acb2-bb703239be65",
   "metadata": {},
   "outputs": [
    {
     "ename": "NameError",
     "evalue": "name 'kfserving_op' is not defined",
     "output_type": "error",
     "traceback": [
      "\u001b[0;31m---------------------------------------------------------------------------\u001b[0m",
      "\u001b[0;31mNameError\u001b[0m                                 Traceback (most recent call last)",
      "\u001b[0;32m<ipython-input-4-090af84bc2c6>\u001b[0m in \u001b[0;36m<module>\u001b[0;34m\u001b[0m\n\u001b[1;32m     15\u001b[0m '''\n\u001b[1;32m     16\u001b[0m \u001b[0;34m\u001b[0m\u001b[0m\n\u001b[0;32m---> 17\u001b[0;31m kfserving_op(\n\u001b[0m\u001b[1;32m     18\u001b[0m     \u001b[0maction\u001b[0m\u001b[0;34m=\u001b[0m\u001b[0;34m'apply'\u001b[0m\u001b[0;34m,\u001b[0m\u001b[0;34m\u001b[0m\u001b[0;34m\u001b[0m\u001b[0m\n\u001b[1;32m     19\u001b[0m     \u001b[0minferenceservice_yaml\u001b[0m\u001b[0;34m=\u001b[0m\u001b[0misvc_yaml\u001b[0m\u001b[0;34m\u001b[0m\u001b[0;34m\u001b[0m\u001b[0m\n",
      "\u001b[0;31mNameError\u001b[0m: name 'kfserving_op' is not defined"
     ]
    }
   ],
   "source": [
    "import kfp.dsl as dsl\n",
    "import kfp\n",
    "from kfp import components\n",
    "\n",
    "isvc_yaml = '''\n",
    "apiVersion: \"serving.kubeflow.org/v1alpha2\"\n",
    "kind: \"InferenceService\"\n",
    "metadata:\n",
    "  name: digits-recognizer\n",
    "  namespace: admin\n",
    "spec:\n",
    "  default:\n",
    "    predictor:\n",
    "      tensorflow:\n",
    "        storageUri: \"s3://digits-recognizer/models\"\n",
    "'''\n",
    "\n",
    "kfserving_op(\n",
    "    action='apply',\n",
    "    inferenceservice_yaml=isvc_yaml\n",
    ")\n",
    "@dsl.pipeline(\n",
    "  name='KFServing Pipeline',\n",
    "  description='A pipeline for KFServing.'\n",
    ")\n",
    "def kfserving_pipeline():\n",
    "    kfserving_op(\n",
    "        action='apply',\n",
    "        model_name='tf-sample',\n",
    "        model_uri='gs://kfserving-samples/models/tensorflow/flowers',\n",
    "        framework='tensorflow',\n",
    "    )\n",
    "kfp.Client().create_run_from_pipeline_func(kfserving_pipeline, arguments={})"
   ]
  },
  {
   "cell_type": "code",
   "execution_count": null,
   "id": "ee2d9c77-c679-4bf8-9255-1ea59bf32b47",
   "metadata": {},
   "outputs": [],
   "source": []
  }
 ],
 "metadata": {
  "kernelspec": {
   "display_name": "Python 3",
   "language": "python",
   "name": "python3"
  },
  "language_info": {
   "codemirror_mode": {
    "name": "ipython",
    "version": 3
   },
   "file_extension": ".py",
   "mimetype": "text/x-python",
   "name": "python",
   "nbconvert_exporter": "python",
   "pygments_lexer": "ipython3",
   "version": "3.8.10"
  }
 },
 "nbformat": 4,
 "nbformat_minor": 5
}
